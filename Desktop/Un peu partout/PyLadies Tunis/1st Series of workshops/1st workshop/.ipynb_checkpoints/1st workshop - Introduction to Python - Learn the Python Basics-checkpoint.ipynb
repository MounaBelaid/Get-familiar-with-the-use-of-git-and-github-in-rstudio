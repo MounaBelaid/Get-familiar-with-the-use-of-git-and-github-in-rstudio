{
 "cells": [
  {
   "cell_type": "code",
   "execution_count": null,
   "metadata": {},
   "outputs": [],
   "source": [
    "# Strings\n",
    "# Numbers\n",
    "# Booleans\n",
    "# Dictionaries\n",
    "# Variables\n",
    "# Loops\n",
    "# Iterators"
   ]
  },
  {
   "cell_type": "code",
   "execution_count": null,
   "metadata": {},
   "outputs": [],
   "source": [
    "# Exploring The Python REPL"
   ]
  },
  {
   "cell_type": "code",
   "execution_count": null,
   "metadata": {},
   "outputs": [],
   "source": [
    "# OK — let’s go! We’ll start inside the Python REPL. With your terminal open and the Python interactive shell started, you’ll see a command prompt consisting of three arrows (>>>). If you use repl.it, the command prompt looks a bit different.\n",
    "\n",
    "# Just to be absolutely clear, you don’t type in the three arrows, only what follows after it. Now type in the number 10:"
   ]
  },
  {
   "cell_type": "code",
   "execution_count": null,
   "metadata": {},
   "outputs": [],
   "source": [
    "10"
   ]
  },
  {
   "cell_type": "code",
   "execution_count": null,
   "metadata": {},
   "outputs": [],
   "source": [
    "# What happened? Remember we are in a REPL, which is short for Read-Evaluate-Print-Loop:\n",
    "\n",
    "# Read: Python reads 10\n",
    "# Evaluate: Python evaluates this input and decides it is a number\n",
    "# Print: it prints out what was evaluated\n",
    "# Loop: and it’s ready for the next input"
   ]
  },
  {
   "cell_type": "code",
   "execution_count": null,
   "metadata": {},
   "outputs": [],
   "source": [
    "# Let’s give it something more challenging:"
   ]
  },
  {
   "cell_type": "code",
   "execution_count": null,
   "metadata": {},
   "outputs": [],
   "source": [
    ">>> 10 + 10"
   ]
  },
  {
   "cell_type": "code",
   "execution_count": null,
   "metadata": {},
   "outputs": [],
   "source": [
    "# This time, Python recognized two numbers and a so-called operator, the plus sign, and evaluates this to 20. Yup, Python can be used as a calculator."
   ]
  },
  {
   "cell_type": "code",
   "execution_count": null,
   "metadata": {},
   "outputs": [],
   "source": [
    "# We’ve seen how to use the + operator. It’s just like regular math. Let’s go over some of the other operators you can use. Go ahead a play around with this in the REPL:"
   ]
  },
  {
   "cell_type": "code",
   "execution_count": null,
   "metadata": {},
   "outputs": [],
   "source": [
    "# If you know your math, you might also want to try:"
   ]
  },
  {
   "cell_type": "code",
   "execution_count": null,
   "metadata": {},
   "outputs": [],
   "source": [
    "%\tModulus\t5 % 2 == 1"
   ]
  },
  {
   "cell_type": "code",
   "execution_count": null,
   "metadata": {},
   "outputs": [],
   "source": [
    "//\tFloor division\t9 // 2 == 4"
   ]
  },
  {
   "cell_type": "code",
   "execution_count": null,
   "metadata": {},
   "outputs": [],
   "source": [
    "**\tExponential\t2 ** 4 == 16"
   ]
  },
  {
   "cell_type": "code",
   "execution_count": null,
   "metadata": {},
   "outputs": [],
   "source": [
    "# Operator precedence, the order in which Python processes the operators and numbers, is the same as in math. For example, multiplication and division come before addition and subtraction. In case of doubt, you can always use parentheses, or simply try it in the REPL."
   ]
  },
  {
   "cell_type": "code",
   "execution_count": null,
   "metadata": {},
   "outputs": [],
   "source": [
    "# Python Variables"
   ]
  },
  {
   "cell_type": "code",
   "execution_count": null,
   "metadata": {},
   "outputs": [],
   "source": [
    "# Now that we can use Python as a calculator, wouldn’t it be nice to store the results of those calculations? For this, Python has the concept of a variable."
   ]
  },
  {
   "cell_type": "code",
   "execution_count": null,
   "metadata": {},
   "outputs": [],
   "source": [
    "# Variable\n",
    "# A variable is used to store information that can be referenced later on."
   ]
  },
  {
   "cell_type": "code",
   "execution_count": null,
   "metadata": {},
   "outputs": [],
   "source": [
    "# Let’s create a Python variable called var. Before we do so, try and see if Python already knows what var is:"
   ]
  },
  {
   "cell_type": "code",
   "execution_count": null,
   "metadata": {},
   "outputs": [],
   "source": [
    "var"
   ]
  },
  {
   "cell_type": "code",
   "execution_count": null,
   "metadata": {},
   "outputs": [],
   "source": [
    "This is the way Python lets you know about errors. Ignore the first two lines and focus on the actual error instead. Python reports: name ‘var’ is not defined. So let’s define the name var as a variable and try this again:\n",
    "\n"
   ]
  },
  {
   "cell_type": "code",
   "execution_count": null,
   "metadata": {},
   "outputs": [],
   "source": [
    ">>> var = 20-15\n",
    ">>> var\n",
    "5"
   ]
  },
  {
   "cell_type": "code",
   "execution_count": null,
   "metadata": {},
   "outputs": [],
   "source": [
    "# Step by step:\n",
    "\n",
    "# Python sees a so-called assignment: we assign the result of 3 * 5 to the variable result.\n",
    "# Next, we type in the result.\n",
    "# Python does not recognize this as a command, so it tries to see if, perhaps, there’s a variable with this name. There is, and we assigned 15 to it. Hence this line evaluates to the number 15, which is printed to the screen."
   ]
  },
  {
   "cell_type": "code",
   "execution_count": null,
   "metadata": {},
   "outputs": [],
   "source": [
    "# We picked the general name var here, but you can choose any name you deem appropriate. Always pick a variable name that best describes its contents. This practice makes your code more readable and easy to understand."
   ]
  },
  {
   "cell_type": "code",
   "execution_count": null,
   "metadata": {},
   "outputs": [],
   "source": [
    "# Python variables are a crucial part of the language because you can use them in other expressions too:"
   ]
  },
  {
   "cell_type": "code",
   "execution_count": null,
   "metadata": {},
   "outputs": [],
   "source": [
    ">>> 4 * var\n",
    "60\n",
    ">>> var - var\n",
    "0\n",
    ">>> _"
   ]
  },
  {
   "cell_type": "code",
   "execution_count": null,
   "metadata": {},
   "outputs": [],
   "source": [
    "# I used the word expressions without explaining what an expression is, let’s fix that:"
   ]
  },
  {
   "cell_type": "code",
   "execution_count": null,
   "metadata": {},
   "outputs": [],
   "source": [
    "# Expression\n",
    "# An expression is anything that Python can evaluate to a value\n",
    "# These are all valid expressions because Python can evaluate them to a value:"
   ]
  },
  {
   "cell_type": "code",
   "execution_count": null,
   "metadata": {},
   "outputs": [],
   "source": [
    "# Evaluates to 9:\n",
    "3 * 3\n",
    "# Evaluates to 19 if the result is 15:\n",
    "var + 4\n",
    "# Simply evaluates to 2:\n",
    "2"
   ]
  },
  {
   "cell_type": "code",
   "execution_count": null,
   "metadata": {},
   "outputs": [],
   "source": [
    "# Python String: Working With Text"
   ]
  },
  {
   "cell_type": "code",
   "execution_count": null,
   "metadata": {},
   "outputs": [],
   "source": [
    "# So we’ve seen numbers, but what about text? This page is about the Python string, which is the go-to Python data type for storing and using text in Python. So, in Python, a piece of text is called a string and you can perform all kinds of operations on a string. But let’s start with the basics first!"
   ]
  },
  {
   "cell_type": "code",
   "execution_count": null,
   "metadata": {},
   "outputs": [],
   "source": [
    "# What is a Python string?\n",
    "# How to create a Python string\n",
    "# Single or double quotes?\n",
    "# String operations\n",
    "# Getting the string length"
   ]
  },
  {
   "cell_type": "code",
   "execution_count": null,
   "metadata": {},
   "outputs": [],
   "source": [
    "# String\n",
    "# A string in Python is a sequence of characters\n",
    "# In even simpler terms, a string is a piece of text. Strings are not just a Python thing. It’s a well-known term in the field of computer science and means the same thing in most other languages as well. Now that we know what a string is, we’ll look at how to create a string."
   ]
  },
  {
   "cell_type": "code",
   "execution_count": null,
   "metadata": {},
   "outputs": [],
   "source": [
    "# A Python string needs quotes around it for it to be recognized as such, like this:"
   ]
  },
  {
   "cell_type": "code",
   "execution_count": null,
   "metadata": {},
   "outputs": [],
   "source": [
    "# Because of the quotes, Python understands this is a sequence of characters and not a command, number, or variable.\n",
    "\n",
    "# And just like with numbers, some of the operators we learned before work on Python strings too. Try it with the following expressions:"
   ]
  },
  {
   "cell_type": "code",
   "execution_count": null,
   "metadata": {},
   "outputs": [],
   "source": [
    ">>> 'a' + 'b'\n",
    "'ab'\n",
    ">>> 'ab' * 4\n",
    "'abababab'\n",
    ">>> 'a' - 'b'\n",
    "Traceback (most recent call last):\n",
    "  File \"<stdin>\", line 1, in <module>\n",
    "TypeError: unsupported operand type(s) for -: 'str' and 'str'"
   ]
  },
  {
   "cell_type": "code",
   "execution_count": null,
   "metadata": {},
   "outputs": [],
   "source": [
    "# This is what happens in the code above:\n",
    "\n",
    "# The plus operator glues two Python strings together.\n",
    "# The multiplication operator repeats our Python string the given number of times.\n",
    "# The minus operator doesn’t work on a Python string and produces an error. If you want to remove parts of a string, there are other methods that you’ll learn about later on."
   ]
  },
  {
   "cell_type": "code",
   "execution_count": null,
   "metadata": {},
   "outputs": [],
   "source": [
    "# We’ve used single quotes, but Python accepts double-quotes around a string as well:"
   ]
  },
  {
   "cell_type": "code",
   "execution_count": null,
   "metadata": {},
   "outputs": [],
   "source": [
    ">>> \"a\" + \"b\"\n",
    "'ab'"
   ]
  },
  {
   "cell_type": "code",
   "execution_count": null,
   "metadata": {},
   "outputs": [],
   "source": [
    "# Note that these are not two single quotes next to each other. It’s the character that’s often found next to the enter key on your keyboard. You need to press shift together with this key to get a double quote.\n",
    "\n",
    "# As you can see from its answer, Python itself seems to prefer single quotes. It looks more clear, and Python tries to be as clear and well readable as it can. So why does it support both? It’s because it allows you to use strings that contain a quote.\n",
    "\n",
    "# In the first example below, we use double-quotes. Hence there’s no problem with the single quote in the word it’s. However, in the second example, we try to use single quotes. Python sees the quote in the word it’s and thinks this is the end of the string! The following letter, “s”, causes a so-called syntax error: your language syntax is not correct, and Python doesn’t know what to do next and fails with an error:"
   ]
  },
  {
   "cell_type": "code",
   "execution_count": null,
   "metadata": {},
   "outputs": [],
   "source": [
    ">>> mystring = \"It's a string, with a single quote!\"\n",
    ">>> mystring = 'It's a string, with a single quote!'\n",
    "  File \"<stdin>\", line 1\n",
    "    mystring = 'It's a string, with a single quote!'"
   ]
  },
  {
   "cell_type": "code",
   "execution_count": null,
   "metadata": {},
   "outputs": [],
   "source": [
    "# As you can see, even the syntax highlighter on the code block above gets confused! And as you can also see, Python points out the exact location of where it encountered the error. Python errors tend to be very helpful, so look closely at them and you’ll often be able to pinpoint what’s going wrong.\n",
    "\n",
    "# There’s actually another way around this problem, called escaping. You can escape a special character, like a quote, with a backward slash:"
   ]
  },
  {
   "cell_type": "code",
   "execution_count": null,
   "metadata": {},
   "outputs": [],
   "source": [
    ">>> mystring = 'It\\'s an escaped quote!'\n",
    ">>> _"
   ]
  },
  {
   "cell_type": "code",
   "execution_count": null,
   "metadata": {},
   "outputs": [],
   "source": [
    "# You can also escape double quotes inside a double-quoted string:"
   ]
  },
  {
   "cell_type": "code",
   "execution_count": null,
   "metadata": {},
   "outputs": [],
   "source": [
    ">>> mystring = \"I'm a so-called \\\"script kiddie\\\"\"\n",
    ">>> _"
   ]
  },
  {
   "cell_type": "code",
   "execution_count": null,
   "metadata": {},
   "outputs": [],
   "source": [
    "# So which one should you use? It’s simple: always opt for the option in which you need the least amount of escapes because they make your Python strings less readable."
   ]
  },
  {
   "cell_type": "code",
   "execution_count": null,
   "metadata": {},
   "outputs": [],
   "source": [
    "# String operations"
   ]
  },
  {
   "cell_type": "code",
   "execution_count": null,
   "metadata": {},
   "outputs": [],
   "source": [
    "# Strings come with a number of handy, built-in operations you can execute. I’ll show you only a couple here, since I don’t want to divert your attention from the tutorial too much.\n",
    "\n",
    "# In the REPL, you can use auto-completion. In the next code fragment, we create a string, mystring, and on the next line we type its name followed by hitting the <TAB> key twice:"
   ]
  },
  {
   "cell_type": "code",
   "execution_count": null,
   "metadata": {},
   "outputs": [],
   "source": [
    ">>> mystring = \"Hello world\"\n",
    ">>> mystring.\n",
    "mystring.capitalize(    mystring.find(          mystring.isdecimal(     mystring.istitle(       mystring.partition(     mystring.rstrip(        mystring.translate(\n",
    "mystring.casefold(      mystring.format(        mystring.isdigit(       mystring.isupper(       mystring.replace(       mystring.split(         mystring.upper(\n",
    "mystring.center(        mystring.format_map(    mystring.isidentifier(  mystring.join(          mystring.rfind(         mystring.splitlines(    mystring.zfill(\n",
    "mystring.count(         mystring.index(         mystring.islower(       mystring.ljust(         mystring.rindex(        mystring.startswith(\n",
    "mystring.encode(        mystring.isalnum(       mystring.isnumeric(     mystring.lower(         mystring.rjust(         mystring.strip(\n",
    "mystring.endswith(      mystring.isalpha(       mystring.isprintable(   mystring.lstrip(        mystring.rpartition(    mystring.swapcase(\n",
    "mystring.expandtabs(    mystring.isascii(       mystring.isspace(       mystring.maketrans(     mystring.rsplit(        mystring.title("
   ]
  },
  {
   "cell_type": "code",
   "execution_count": null,
   "metadata": {},
   "outputs": [],
   "source": [
    "# If all went well, you should get a big list of operations that can be performed on a string. You can try some of these yourself:"
   ]
  },
  {
   "cell_type": "code",
   "execution_count": null,
   "metadata": {},
   "outputs": [],
   "source": [
    ">>> mystring.lower()\n",
    "'hello world'\n",
    ">>> mystring.upper()\n",
    "'HELLO WORLD'"
   ]
  },
  {
   "cell_type": "code",
   "execution_count": null,
   "metadata": {},
   "outputs": [],
   "source": [
    "# A very common operation is to get the string length. Unlike the operations above, this can be done with Python’s len() function like this:"
   ]
  },
  {
   "cell_type": "code",
   "execution_count": null,
   "metadata": {},
   "outputs": [],
   "source": [
    ">>> len(\"I wonder how long this string will be...\")\n",
    "40\n",
    ">>> len(mystring)\n",
    "11"
   ]
  },
  {
   "cell_type": "code",
   "execution_count": null,
   "metadata": {},
   "outputs": [],
   "source": [
    "# In fact, the len() function can be used on many objects in Python, as you’ll learn later on. If functions are new to you, you’re in luck, because our next page will explain exactly what a function in Python is, and how you can create one yourself."
   ]
  },
  {
   "cell_type": "code",
   "execution_count": null,
   "metadata": {},
   "outputs": [],
   "source": [
    "# Python Function: The Basics Of Code Reuse"
   ]
  },
  {
   "cell_type": "code",
   "execution_count": null,
   "metadata": {},
   "outputs": [],
   "source": [
    "# Function\n",
    "# A Python function is a named section of a program that performs a specific task and, optionally, returns a value"
   ]
  },
  {
   "cell_type": "code",
   "execution_count": null,
   "metadata": {},
   "outputs": [],
   "source": [
    "# Advantages of using functions\n",
    "# A Python function can be defined once and used many times. It’s a great way to keep your code short, concise, and readable. By giving a function a well-chosen name, your code will become even more readable because the function name directly explains what will happen."
   ]
  },
  {
   "cell_type": "code",
   "execution_count": null,
   "metadata": {},
   "outputs": [],
   "source": [
    "# Built-in Python functions\n",
    "# You can define functions yourself, as you will soon learn, but Python also has built-in functions. Let’s start with the most well known built-in function, called print:"
   ]
  },
  {
   "cell_type": "code",
   "execution_count": null,
   "metadata": {},
   "outputs": [],
   "source": [
    ">>> print('Hello, readers!')\n",
    "Hello, readers!\n",
    ">>> print(15)\n",
    "15"
   ]
  },
  {
   "cell_type": "code",
   "execution_count": null,
   "metadata": {},
   "outputs": [],
   "source": [
    "# Print takes an argument and prints it to the screen.\n",
    "\n",
    "# As stated in our definition, functions can optionally return a value. However, print does not return anything. Because it prints something to the screen, it might look like it does, but it doesn’t. We can check this, by assigning the result of a print statement to a variable:"
   ]
  },
  {
   "cell_type": "code",
   "execution_count": null,
   "metadata": {},
   "outputs": [],
   "source": [
    ">>> result = print(\"Hello\")\n",
    "Hello\n",
    ">>> print(result)\n",
    "None"
   ]
  },
  {
   "cell_type": "code",
   "execution_count": null,
   "metadata": {},
   "outputs": [],
   "source": [
    "# None is a special type of value in Python, basically meaning ‘nothing.’\n",
    "\n",
    "# Another built-in function, that does return a value, is len(). It returns the length of whatever you feed it:"
   ]
  },
  {
   "cell_type": "code",
   "execution_count": null,
   "metadata": {},
   "outputs": [],
   "source": [
    ">>> mylength = len('Hello')\n",
    ">>> print(mylength)\n",
    "5"
   ]
  },
  {
   "cell_type": "code",
   "execution_count": null,
   "metadata": {},
   "outputs": [],
   "source": [
    "# Creating a Python function"
   ]
  },
  {
   "cell_type": "code",
   "execution_count": null,
   "metadata": {},
   "outputs": [],
   "source": [
    "# Now that we know how to use a function, let’s create one ourselves:"
   ]
  },
  {
   "cell_type": "code",
   "execution_count": null,
   "metadata": {},
   "outputs": [],
   "source": [
    ">>> def say_hi():\n",
    "...     print('Hi!')\n",
    "...\n",
    ">>> say_hi()\n",
    "Hi!"
   ]
  },
  {
   "cell_type": "code",
   "execution_count": null,
   "metadata": {},
   "outputs": [],
   "source": [
    "# It’s just a few lines, but a lot is going on. Let’s dissect this:\n",
    "\n",
    "# First of all, we see the word def, which is the Python keyword used to define a function.\n",
    "# Next comes our function name, say_hi.\n",
    "# Then we encounter two parentheses, (), which indicate that this function does not accept any arguments (unlike print and len).\n",
    "# We end the line with a colon (:)\n",
    "# And finally, we bump into a feature that sets Python apart from many other programming languages: indentation."
   ]
  },
  {
   "cell_type": "code",
   "execution_count": null,
   "metadata": {},
   "outputs": [],
   "source": [
    "# Indentation"
   ]
  },
  {
   "cell_type": "code",
   "execution_count": null,
   "metadata": {},
   "outputs": [],
   "source": [
    "# Python uses indentation to distinguish blocks of code that belong together. Consecutive lines with equal indentation are part of the same block of code."
   ]
  },
  {
   "cell_type": "code",
   "execution_count": null,
   "metadata": {},
   "outputs": [],
   "source": [
    "# To tell Python that the following lines are the body of our function, we need to indent them. You indent lines with the TAB-key on your keyboard. In Python, it’s good style to use four spaces for indentation. The entire Python community does so. The Python interactive shell (REPL) and all decent editors will automatically indent with four spaces if you hit the TAB-key.\n",
    "\n",
    "# Back to our function: it has only one line of code in its body, the print command. After it, we hit enter one extra time to let the Python REPL know that this is the end of the function. Finally, we can call our function with say_hi()."
   ]
  },
  {
   "cell_type": "code",
   "execution_count": null,
   "metadata": {},
   "outputs": [],
   "source": [
    "# Python function parameters and arguments"
   ]
  },
  {
   "cell_type": "code",
   "execution_count": null,
   "metadata": {},
   "outputs": [],
   "source": [
    "# We can make this more interesting by allowing an argument to be passed to our function:\n",
    "\n",
    ">>> def say_hi(name):\n",
    "...     print('Hi', name)\n",
    "...\n",
    ">>> say_hi('Erik')\n",
    "Hi Erik"
   ]
  },
  {
   "cell_type": "code",
   "execution_count": null,
   "metadata": {},
   "outputs": [],
   "source": [
    "# Our function now accepts a value, which we assign to the variable name. We call such variables the parameter, while the actual value we provide (‘Erik’) is called the argument."
   ]
  },
  {
   "cell_type": "code",
   "execution_count": null,
   "metadata": {},
   "outputs": [],
   "source": [
    "# Parameters and arguments\n",
    "# A Python function can have parameters. The values we pass through these parameters are called arguments.\n",
    "# As you can see, print() accepts multiple arguments, separated by a comma. This allows us to print both ‘hi’ and the provided name. For our convenience, print() automatically puts a space between the two strings."
   ]
  },
  {
   "cell_type": "code",
   "execution_count": null,
   "metadata": {},
   "outputs": [],
   "source": [
    "# Variable scope"
   ]
  },
  {
   "cell_type": "code",
   "execution_count": null,
   "metadata": {},
   "outputs": [],
   "source": [
    "# The variable name only exists inside our function. We say that the scope of the variable name is limited to the function say_hi, meaning it doesn’t exist outside of this function.\n",
    "\n",
    "# Scope\n",
    "# The visibility of a variable is called scope. The scope defines which parts of your program can see and use a variable.\n",
    "# If we define a variable at the so-called top-level of a program, it is visible in all places."
   ]
  },
  {
   "cell_type": "code",
   "execution_count": null,
   "metadata": {},
   "outputs": [],
   "source": [
    "# Let’s demonstrate this:\n",
    "\n",
    ">>> def say_hi():\n",
    "...    print(\"Hi\", name)\n",
    "...    answer = \"Hi\"\n",
    "...\n",
    ">>> name = 'Erik'\n",
    ">>> say_hi()\n",
    "Hi Erik\n",
    ">>> print(answer)\n",
    "Traceback (most recent call last):\n",
    "  File \"<stdin>\", line 1, in <module>\n",
    "NameError: name 'answer' is not defined"
   ]
  },
  {
   "cell_type": "code",
   "execution_count": null,
   "metadata": {},
   "outputs": [],
   "source": [
    "# say_hi was able to use the variable name, as expected, because it’s a top-level variable that is visible everywhere. However, answer, defined inside say_hi, is not known outside of the function and causes a NameError."
   ]
  },
  {
   "cell_type": "code",
   "execution_count": null,
   "metadata": {},
   "outputs": [],
   "source": [
    "# Python function with multiple arguments"
   ]
  },
  {
   "cell_type": "code",
   "execution_count": null,
   "metadata": {},
   "outputs": [],
   "source": [
    "# Let’s make this even wilder and define a function with multiple arguments:\n",
    "\n",
    ">>> def welcome(name, location):\n",
    "...     print(\"Hi\", name, \"welcome to\", location)\n",
    "...\n",
    ">>> welcome('erik', 'this tutorial')\n",
    "Hi erik welcome to this tutorial\n",
    "It’s not that hard, you just add more arguments to the function definition, separated by commas."
   ]
  },
  {
   "cell_type": "code",
   "execution_count": null,
   "metadata": {},
   "outputs": [],
   "source": [
    "# Default values and named parameters"
   ]
  },
  {
   "cell_type": "code",
   "execution_count": null,
   "metadata": {},
   "outputs": [],
   "source": [
    "# A compelling Python feature is the ability to provide default values for the parameters:\n",
    "\n",
    ">>> def welcome(name='learner', location='this tutorial'):\n",
    "...     print(\"Hi\", name, \"welcome to\", location)\n",
    "...\n",
    ">>> welcome()\n",
    "Hi learner welcome to this tutorial\n",
    ">>> welcome(name='John')\n",
    "Hi John welcome to this tutorial\n",
    ">>> welcome(location='this epic tutorial')\n",
    "Hi learner welcome to this epic tutorial\n",
    ">>> welcome(name='John', location='this epic tutorial')\n",
    "Hi John welcome to this epic tutorial"
   ]
  },
  {
   "cell_type": "code",
   "execution_count": null,
   "metadata": {},
   "outputs": [],
   "source": [
    "# Because our parameters have a default value, you don’t have to fill them in. If you don’t, the default is used. If you do, you override the default with your own value.\n",
    "\n",
    "# Calling Python functions while explicitly naming the parameters is different from what we did up until now. These parameters are called named parameters because we specify both the name and the value. Thanks to these named parameters, the order in which we supply them doesn’t matter. If you think about it, it’s the natural and only way to make default values useful."
   ]
  },
  {
   "cell_type": "code",
   "execution_count": null,
   "metadata": {},
   "outputs": [],
   "source": [
    "# If you don’t want to use named parameters, you can. When you rely on position instead of names, you’re providing what we call positional parameters. The position matters, as can be seen below:\n",
    "\n",
    ">>> def welcome(name='learner', location='this tutorial'):\n",
    "...     print(\"Hi\", name, \"welcome to\", location)\n",
    "...\n",
    ">>> welcome('Erik', 'your home')\n",
    "Hi Erik welcome to your home\n",
    "For now, you’ve learned enough about functions to continue with the guide. If you like to learn more though, make sure to read our Python functions deep dive."
   ]
  },
  {
   "cell_type": "code",
   "execution_count": null,
   "metadata": {},
   "outputs": [],
   "source": [
    "# Python Boolean and Conditional Programming"
   ]
  },
  {
   "cell_type": "code",
   "execution_count": null,
   "metadata": {},
   "outputs": [],
   "source": []
  },
  {
   "cell_type": "code",
   "execution_count": null,
   "metadata": {},
   "outputs": [],
   "source": []
  },
  {
   "cell_type": "code",
   "execution_count": null,
   "metadata": {},
   "outputs": [],
   "source": [
    "# Python For Loop and While Loop: Repeating Instructions"
   ]
  },
  {
   "cell_type": "code",
   "execution_count": null,
   "metadata": {},
   "outputs": [],
   "source": []
  },
  {
   "cell_type": "code",
   "execution_count": null,
   "metadata": {},
   "outputs": [],
   "source": []
  },
  {
   "cell_type": "code",
   "execution_count": null,
   "metadata": {},
   "outputs": [],
   "source": [
    "# Python Comment: What It Is And How to Create"
   ]
  },
  {
   "cell_type": "code",
   "execution_count": null,
   "metadata": {},
   "outputs": [],
   "source": []
  },
  {
   "cell_type": "code",
   "execution_count": null,
   "metadata": {},
   "outputs": [],
   "source": []
  },
  {
   "cell_type": "code",
   "execution_count": null,
   "metadata": {},
   "outputs": [],
   "source": [
    "# Using a Python IDE"
   ]
  }
 ],
 "metadata": {
  "kernelspec": {
   "display_name": "Python 3",
   "language": "python",
   "name": "python3"
  },
  "language_info": {
   "codemirror_mode": {
    "name": "ipython",
    "version": 3
   },
   "file_extension": ".py",
   "mimetype": "text/x-python",
   "name": "python",
   "nbconvert_exporter": "python",
   "pygments_lexer": "ipython3",
   "version": "3.8.5"
  }
 },
 "nbformat": 4,
 "nbformat_minor": 4
}
